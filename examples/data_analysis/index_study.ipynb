{
 "cells": [
  {
   "cell_type": "code",
   "execution_count": 1,
   "metadata": {},
   "outputs": [],
   "source": [
    "import numpy as np\n",
    "import os\n",
    "import matplotlib.pyplot as plt\n",
    "import pandas as pd\n",
    "import json\n",
    "import talib\n",
    "from vnpy.trader.constant import (Direction, Offset, Exchange,Interval, Status)\n",
    "from vnpy.trader.database import database_manager\n",
    "from datetime import date, datetime, timedelta\n",
    "from vnpy.app.cta_strategy import (BarGenerator,ArrayManager)\n",
    "from vnpy.app.cta_strategy import BarData"
   ]
  },
  {
   "cell_type": "code",
   "execution_count": 2,
   "metadata": {},
   "outputs": [],
   "source": [
    "def load_bar_data(\n",
    "    symbol: str,\n",
    "    exchange: Exchange,\n",
    "    interval: Interval,\n",
    "    start: datetime,\n",
    "    end: datetime\n",
    "):\n",
    "    return database_manager.load_bar_data(\n",
    "        symbol, exchange, interval, start, end\n",
    "    )\n",
    "history_data=[]\n",
    "def load_bar(   symbol: str,\n",
    "    exchange: Exchange,\n",
    "    interval: Interval,\n",
    "    start: datetime,\n",
    "    end: datetime):\n",
    "    print(\"开始加载\")\n",
    "    \n",
    "    if start>=end:\n",
    "        print(\"起始日期必须小于结束日期\")\n",
    "    total_delta=end-start\n",
    "    progress_delta = timedelta(days=30)\n",
    "    total_delta = end - start\n",
    "    progress=0\n",
    "    step_end=start+progress_delta\n",
    "    while start<end:\n",
    "        step_end=min(end,step_end)\n",
    "        data=load_bar_data(symbol,exchange,interval,start,step_end)\n",
    "        history_data.extend(data)\n",
    "        \n",
    "        progress+= (progress_delta/total_delta)\n",
    "        progress=min(progress,1)\n",
    "        progress_bar = \"#\" * int(progress * 10)\n",
    "        print(f\"加载进度：{progress_bar} [{progress:.0%}]\")       \n",
    "        start=step_end\n",
    "        step_end+=progress_delta        \n",
    "        print()\n",
    "    print(\"历史数据加载完成\")         \n",
    "\n",
    "from  datetime import datetime\n",
    "\n",
    "def output(msg):\n",
    "    print(f\"{datetime.now()}\\t{msg}\") "
   ]
  },
  {
   "cell_type": "code",
   "execution_count": 3,
   "metadata": {
    "scrolled": true
   },
   "outputs": [
    {
     "name": "stdout",
     "output_type": "stream",
     "text": [
      "开始加载\n",
      "加载进度：#### [47%]\n",
      "\n",
      "加载进度：######### [94%]\n",
      "\n",
      "加载进度：########## [100%]\n",
      "\n",
      "历史数据加载完成\n"
     ]
    }
   ],
   "source": [
    "load_bar(\"XBTUSD\",Exchange.BITMEX,Interval.MINUTE,\n",
    "        datetime(2019, 8, 27, 0, 0, 0, 0),\n",
    "         datetime(2019, 10, 29,12 , 0, 0, 0),\n",
    "        )"
   ]
  },
  {
   "cell_type": "code",
   "execution_count": 4,
   "metadata": {},
   "outputs": [],
   "source": [
    "def convertArray2Df(a:[]):\n",
    "    t=[]\n",
    "    o=[]\n",
    "    h=[]\n",
    "    l=[]\n",
    "    c=[]\n",
    "    v=[]\n",
    "    for bar in a:\n",
    "        time=bar.datetime\n",
    "        open_price=bar.open_price\n",
    "        high_price=bar.high_price\n",
    "        low_price=bar.low_price\n",
    "        close_price=bar.close_price\n",
    "        volume = bar.volume\n",
    "    \n",
    "        t.append(time)\n",
    "        o.append(open_price)\n",
    "        h.append(high_price)\n",
    "        l.append(low_price)\n",
    "        c.append(close_price)\n",
    "        v.append(volume)\n",
    "    \n",
    "    original = pd.DataFrame()\n",
    "    original['open']=o\n",
    "    original['high']=h\n",
    "    original['low']=l\n",
    "    original['close']=c\n",
    "    original['volume']=v\n",
    "    original.index = t\n",
    "    return original"
   ]
  },
  {
   "cell_type": "code",
   "execution_count": 5,
   "metadata": {},
   "outputs": [],
   "source": [
    "df = convertArray2Df(history_data)"
   ]
  },
  {
   "cell_type": "code",
   "execution_count": 6,
   "metadata": {},
   "outputs": [],
   "source": [
    "# convert minute df to hour df\n",
    "def convertM2H(df,interval):\n",
    "    ret= pd.DataFrame()    \n",
    "    ret[\"open\"] = df[\"open\"].resample(interval, how=\"first\")\n",
    "    ret[\"high\"] = df[\"high\"].resample(interval, how=\"max\")\n",
    "    ret[\"low\"] = df[\"low\"].resample(interval, how=\"min\")\n",
    "    ret[\"close\"] = df[\"close\"].resample(interval, how=\"last\")\n",
    "    ret[\"volume\"] = df[\"volume\"].resample(interval, how=\"sum\")\n",
    "    \n",
    "    return ret"
   ]
  },
  {
   "cell_type": "code",
   "execution_count": 8,
   "metadata": {},
   "outputs": [],
   "source": [
    "df_hour=convertM2H(df,\"1h\")"
   ]
  },
  {
   "cell_type": "code",
   "execution_count": 9,
   "metadata": {},
   "outputs": [
    {
     "data": {
      "text/html": [
       "<div>\n",
       "<style scoped>\n",
       "    .dataframe tbody tr th:only-of-type {\n",
       "        vertical-align: middle;\n",
       "    }\n",
       "\n",
       "    .dataframe tbody tr th {\n",
       "        vertical-align: top;\n",
       "    }\n",
       "\n",
       "    .dataframe thead th {\n",
       "        text-align: right;\n",
       "    }\n",
       "</style>\n",
       "<table border=\"1\" class=\"dataframe\">\n",
       "  <thead>\n",
       "    <tr style=\"text-align: right;\">\n",
       "      <th></th>\n",
       "      <th>open</th>\n",
       "      <th>high</th>\n",
       "      <th>low</th>\n",
       "      <th>close</th>\n",
       "      <th>volume</th>\n",
       "    </tr>\n",
       "  </thead>\n",
       "  <tbody>\n",
       "    <tr>\n",
       "      <th>2019-08-27 00:00:00</th>\n",
       "      <td>10368.5</td>\n",
       "      <td>10384.0</td>\n",
       "      <td>10303.5</td>\n",
       "      <td>10343.0</td>\n",
       "      <td>68800046.0</td>\n",
       "    </tr>\n",
       "    <tr>\n",
       "      <th>2019-08-27 01:00:00</th>\n",
       "      <td>10343.0</td>\n",
       "      <td>10360.0</td>\n",
       "      <td>10303.5</td>\n",
       "      <td>10313.5</td>\n",
       "      <td>60253236.0</td>\n",
       "    </tr>\n",
       "    <tr>\n",
       "      <th>2019-08-27 02:00:00</th>\n",
       "      <td>10313.5</td>\n",
       "      <td>10314.0</td>\n",
       "      <td>10201.5</td>\n",
       "      <td>10226.0</td>\n",
       "      <td>180464840.0</td>\n",
       "    </tr>\n",
       "    <tr>\n",
       "      <th>2019-08-27 03:00:00</th>\n",
       "      <td>10226.0</td>\n",
       "      <td>10229.0</td>\n",
       "      <td>10080.0</td>\n",
       "      <td>10175.0</td>\n",
       "      <td>305685544.0</td>\n",
       "    </tr>\n",
       "    <tr>\n",
       "      <th>2019-08-27 04:00:00</th>\n",
       "      <td>10175.0</td>\n",
       "      <td>10176.5</td>\n",
       "      <td>10150.0</td>\n",
       "      <td>10157.0</td>\n",
       "      <td>44940611.0</td>\n",
       "    </tr>\n",
       "  </tbody>\n",
       "</table>\n",
       "</div>"
      ],
      "text/plain": [
       "                        open     high      low    close       volume\n",
       "2019-08-27 00:00:00  10368.5  10384.0  10303.5  10343.0   68800046.0\n",
       "2019-08-27 01:00:00  10343.0  10360.0  10303.5  10313.5   60253236.0\n",
       "2019-08-27 02:00:00  10313.5  10314.0  10201.5  10226.0  180464840.0\n",
       "2019-08-27 03:00:00  10226.0  10229.0  10080.0  10175.0  305685544.0\n",
       "2019-08-27 04:00:00  10175.0  10176.5  10150.0  10157.0   44940611.0"
      ]
     },
     "execution_count": 9,
     "metadata": {},
     "output_type": "execute_result"
    }
   ],
   "source": [
    "df_hour.head()"
   ]
  },
  {
   "cell_type": "code",
   "execution_count": 10,
   "metadata": {},
   "outputs": [],
   "source": [
    "import talib\n",
    "atr = talib.ATR(df['high'],df['low'],df['close'],20)\n",
    "natr = talib.NATR(df['high'],df['low'],df['close'],20)"
   ]
  },
  {
   "cell_type": "code",
   "execution_count": 11,
   "metadata": {},
   "outputs": [],
   "source": [
    "df['atr']=atr\n",
    "df['natr']=natr"
   ]
  },
  {
   "cell_type": "code",
   "execution_count": 13,
   "metadata": {},
   "outputs": [
    {
     "data": {
      "text/html": [
       "<div>\n",
       "<style scoped>\n",
       "    .dataframe tbody tr th:only-of-type {\n",
       "        vertical-align: middle;\n",
       "    }\n",
       "\n",
       "    .dataframe tbody tr th {\n",
       "        vertical-align: top;\n",
       "    }\n",
       "\n",
       "    .dataframe thead th {\n",
       "        text-align: right;\n",
       "    }\n",
       "</style>\n",
       "<table border=\"1\" class=\"dataframe\">\n",
       "  <thead>\n",
       "    <tr style=\"text-align: right;\">\n",
       "      <th></th>\n",
       "      <th>open</th>\n",
       "      <th>high</th>\n",
       "      <th>low</th>\n",
       "      <th>close</th>\n",
       "      <th>volume</th>\n",
       "      <th>atr</th>\n",
       "      <th>natr</th>\n",
       "    </tr>\n",
       "  </thead>\n",
       "  <tbody>\n",
       "    <tr>\n",
       "      <th>2019-08-27 00:00:00</th>\n",
       "      <td>10368.5</td>\n",
       "      <td>10369.0</td>\n",
       "      <td>10368.5</td>\n",
       "      <td>10369.0</td>\n",
       "      <td>239004.0</td>\n",
       "      <td>NaN</td>\n",
       "      <td>NaN</td>\n",
       "    </tr>\n",
       "    <tr>\n",
       "      <th>2019-08-27 00:01:00</th>\n",
       "      <td>10369.0</td>\n",
       "      <td>10380.0</td>\n",
       "      <td>10368.5</td>\n",
       "      <td>10380.0</td>\n",
       "      <td>3285444.0</td>\n",
       "      <td>NaN</td>\n",
       "      <td>NaN</td>\n",
       "    </tr>\n",
       "    <tr>\n",
       "      <th>2019-08-27 00:02:00</th>\n",
       "      <td>10380.0</td>\n",
       "      <td>10384.0</td>\n",
       "      <td>10379.5</td>\n",
       "      <td>10381.0</td>\n",
       "      <td>3274163.0</td>\n",
       "      <td>NaN</td>\n",
       "      <td>NaN</td>\n",
       "    </tr>\n",
       "    <tr>\n",
       "      <th>2019-08-27 00:03:00</th>\n",
       "      <td>10381.0</td>\n",
       "      <td>10381.0</td>\n",
       "      <td>10371.5</td>\n",
       "      <td>10372.0</td>\n",
       "      <td>1830468.0</td>\n",
       "      <td>NaN</td>\n",
       "      <td>NaN</td>\n",
       "    </tr>\n",
       "    <tr>\n",
       "      <th>2019-08-27 00:04:00</th>\n",
       "      <td>10372.0</td>\n",
       "      <td>10372.0</td>\n",
       "      <td>10365.5</td>\n",
       "      <td>10365.5</td>\n",
       "      <td>1294693.0</td>\n",
       "      <td>NaN</td>\n",
       "      <td>NaN</td>\n",
       "    </tr>\n",
       "  </tbody>\n",
       "</table>\n",
       "</div>"
      ],
      "text/plain": [
       "                        open     high      low    close     volume  atr  natr\n",
       "2019-08-27 00:00:00  10368.5  10369.0  10368.5  10369.0   239004.0  NaN   NaN\n",
       "2019-08-27 00:01:00  10369.0  10380.0  10368.5  10380.0  3285444.0  NaN   NaN\n",
       "2019-08-27 00:02:00  10380.0  10384.0  10379.5  10381.0  3274163.0  NaN   NaN\n",
       "2019-08-27 00:03:00  10381.0  10381.0  10371.5  10372.0  1830468.0  NaN   NaN\n",
       "2019-08-27 00:04:00  10372.0  10372.0  10365.5  10365.5  1294693.0  NaN   NaN"
      ]
     },
     "execution_count": 13,
     "metadata": {},
     "output_type": "execute_result"
    }
   ],
   "source": [
    "df.head()"
   ]
  },
  {
   "cell_type": "code",
   "execution_count": 12,
   "metadata": {},
   "outputs": [
    {
     "data": {
      "text/plain": [
       "<matplotlib.axes._subplots.AxesSubplot at 0x1a55ed68>"
      ]
     },
     "execution_count": 12,
     "metadata": {},
     "output_type": "execute_result"
    },
    {
     "data": {
      "image/png": "[encoded data removed]",
      "text/plain": [
       "<Figure size 1080x720 with 3 Axes>"
      ]
     },
     "metadata": {
      "needs_background": "light"
     },
     "output_type": "display_data"
    }
   ],
   "source": [
    "fig, axes = plt.subplots(3, 1,figsize=(15,10))\n",
    "df[['close']].plot(ax=axes[0])\n",
    "df[['atr']].plot(ax=axes[1])\n",
    "df[['natr']].plot(ax=axes[2])"
   ]
  },
  {
   "cell_type": "code",
   "execution_count": null,
   "metadata": {},
   "outputs": [],
   "source": [
    "df.head(30)"
   ]
  },
  {
   "cell_type": "code",
   "execution_count": null,
   "metadata": {},
   "outputs": [],
   "source": [
    "index = pd.date_range('1/1/2000', periods=9, freq='T')"
   ]
  },
  {
   "cell_type": "code",
   "execution_count": null,
   "metadata": {},
   "outputs": [],
   "source": [
    "index"
   ]
  },
  {
   "cell_type": "code",
   "execution_count": null,
   "metadata": {},
   "outputs": [],
   "source": [
    "type(index)"
   ]
  },
  {
   "cell_type": "code",
   "execution_count": null,
   "metadata": {},
   "outputs": [],
   "source": [
    "series = pd.Series(range(9), index=index)"
   ]
  },
  {
   "cell_type": "code",
   "execution_count": null,
   "metadata": {},
   "outputs": [],
   "source": [
    "type(series.index)"
   ]
  },
  {
   "cell_type": "code",
   "execution_count": null,
   "metadata": {},
   "outputs": [],
   "source": [
    "series.resample('3T').sum()"
   ]
  },
  {
   "cell_type": "code",
   "execution_count": null,
   "metadata": {},
   "outputs": [],
   "source": [
    "series.resample('3T', label='right').sum()"
   ]
  },
  {
   "cell_type": "code",
   "execution_count": null,
   "metadata": {},
   "outputs": [],
   "source": [
    "series.resample('3T', label='right', closed='right').sum()"
   ]
  },
  {
   "cell_type": "code",
   "execution_count": null,
   "metadata": {},
   "outputs": [],
   "source": []
  }
 ],
 "metadata": {
  "kernelspec": {
   "display_name": "Python 3",
   "language": "python",
   "name": "python3"
  },
  "language_info": {
   "codemirror_mode": {
    "name": "ipython",
    "version": 3
   },
   "file_extension": ".py",
   "mimetype": "text/x-python",
   "name": "python",
   "nbconvert_exporter": "python",
   "pygments_lexer": "ipython3",
   "version": "3.7.1"
  },
  "toc": {
   "base_numbering": 1,
   "nav_menu": {},
   "number_sections": true,
   "sideBar": true,
   "skip_h1_title": false,
   "title_cell": "Table of Contents",
   "title_sidebar": "Contents",
   "toc_cell": false,
   "toc_position": {},
   "toc_section_display": true,
   "toc_window_display": false
  },
  "varInspector": {
   "cols": {
    "lenName": 16,
    "lenType": 16,
    "lenVar": 40
   },
   "kernels_config": {
    "python": {
     "delete_cmd_postfix": "",
     "delete_cmd_prefix": "del ",
     "library": "var_list.py",
     "varRefreshCmd": "print(var_dic_list())"
    },
    "r": {
     "delete_cmd_postfix": ") ",
     "delete_cmd_prefix": "rm(",
     "library": "var_list.r",
     "varRefreshCmd": "cat(var_dic_list()) "
    }
   },
   "types_to_exclude": [
    "module",
    "function",
    "builtin_function_or_method",
    "instance",
    "_Feature"
   ],
   "window_display": false
  }
 },
 "nbformat": 4,
 "nbformat_minor": 2
}
